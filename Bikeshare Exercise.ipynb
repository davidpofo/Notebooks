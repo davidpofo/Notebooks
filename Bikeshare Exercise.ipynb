{
 "cells": [
  {
   "cell_type": "markdown",
   "metadata": {},
   "source": [
    "# Data import and cleanup"
   ]
  },
  {
   "cell_type": "code",
   "execution_count": 1,
   "metadata": {},
   "outputs": [],
   "source": [
    "%cd \"C:\\Users\\David\\Downloads\\cycle-share-dataset\""
   ]
  },
  {
   "cell_type": "code",
   "execution_count": 2,
   "metadata": {},
   "outputs": [],
   "source": [
    "import os\n",
    "os.getcwd()"
   ]
  },
  {
   "cell_type": "code",
   "execution_count": 3,
   "metadata": {},
   "outputs": [],
   "source": [
    "import csv\n",
    "\n",
    "with open('station.csv', mode='r') as csv_file:\n",
    "    csv_reader = csv.DictReader(csv_file)\n",
    "    for row in csv_reader:\n",
    "        print(row['station_id'], row['current_dockcount'])"
   ]
  },
  {
   "cell_type": "code",
   "execution_count": 4,
   "metadata": {},
   "outputs": [
    {
     "name": "stderr",
     "output_type": "stream",
     "text": [
      "b'Skipping line 50794: expected 12 fields, saw 20\\n'\n"
     ]
    }
   ],
   "source": [
    "#Import all three datasets into their respective objects\n",
    "#some data in trip may be lossed with this argument (erro_bad_lines)\n",
    "import pandas as pd\n",
    "bikerider_df = pd.read_csv(\"trip.csv\", error_bad_lines=False) \n",
    "bikerider_Stationdf = pd.read_csv(\"station.csv\") \n",
    "bikerider_Weatherdf = pd.read_csv(\"weather.csv\") \n",
    "\n"
   ]
  },
  {
   "cell_type": "code",
   "execution_count": 5,
   "metadata": {},
   "outputs": [
    {
     "name": "stdout",
     "output_type": "stream",
     "text": [
      "<class 'pandas.core.frame.DataFrame'>\n",
      "RangeIndex: 286857 entries, 0 to 286856\n",
      "Data columns (total 12 columns):\n",
      "trip_id              286857 non-null int64\n",
      "starttime            286857 non-null object\n",
      "stoptime             286857 non-null object\n",
      "bikeid               286857 non-null object\n",
      "tripduration         286857 non-null float64\n",
      "from_station_name    286857 non-null object\n",
      "to_station_name      286857 non-null object\n",
      "from_station_id      286857 non-null object\n",
      "to_station_id        286857 non-null object\n",
      "usertype             286857 non-null object\n",
      "gender               181557 non-null object\n",
      "birthyear            181553 non-null float64\n",
      "dtypes: float64(2), int64(1), object(9)\n",
      "memory usage: 26.3+ MB\n"
     ]
    }
   ],
   "source": [
    "bikerider_df.info()"
   ]
  },
  {
   "cell_type": "code",
   "execution_count": 6,
   "metadata": {},
   "outputs": [],
   "source": [
    "#removing duplicates with the first value as unique\n",
    "bikerider_df.drop_duplicates(subset =\"trip_id\", keep = 'first', inplace = True) "
   ]
  },
  {
   "cell_type": "markdown",
   "metadata": {},
   "source": [
    "# Possible next step"
   ]
  },
  {
   "cell_type": "code",
   "execution_count": 7,
   "metadata": {},
   "outputs": [],
   "source": [
    "#dropping any rows that have values of nan in tripduration and Precipitation_In in place\n",
    "#trip_prep_df.dropna(inplace=True)\n",
    "#trip_prep_df.info()"
   ]
  },
  {
   "cell_type": "markdown",
   "metadata": {},
   "source": [
    "# What is the most common birth year of a rider?"
   ]
  },
  {
   "cell_type": "code",
   "execution_count": 8,
   "metadata": {},
   "outputs": [
    {
     "data": {
      "text/plain": [
       "0    1987.0\n",
       "dtype: float64"
      ]
     },
     "execution_count": 8,
     "metadata": {},
     "output_type": "execute_result"
    }
   ],
   "source": [
    "#Most commmon age via birthyear of a rider(trip_id)\n",
    "bikerider_df['birthyear'].mode()#32 years of age, 1987"
   ]
  },
  {
   "cell_type": "markdown",
   "metadata": {},
   "source": [
    "# Create a visualization of how trip duration is affected by precipitation."
   ]
  },
  {
   "cell_type": "code",
   "execution_count": 9,
   "metadata": {},
   "outputs": [
    {
     "data": {
      "text/plain": [
       "(0    985.935\n",
       " 1    926.375\n",
       " 2    883.831\n",
       " 3    865.937\n",
       " 4    923.923\n",
       " Name: tripduration, dtype: float64, 0    0.00\n",
       " 1    0.11\n",
       " 2    0.45\n",
       " 3    0.00\n",
       " 4    0.14\n",
       " Name: Precipitation_In, dtype: float64)"
      ]
     },
     "execution_count": 9,
     "metadata": {},
     "output_type": "execute_result"
    }
   ],
   "source": [
    "#checking off the top total trip duration(tripduration) vs. weather(Precipitation_In)\n",
    "bikerider_df['tripduration'].head(),bikerider_Weatherdf['Precipitation_In'].head()"
   ]
  },
  {
   "cell_type": "code",
   "execution_count": 10,
   "metadata": {},
   "outputs": [],
   "source": [
    "#Creating column to join by from stoptime\n",
    "from datetime import datetime\n",
    "\n",
    "bikerider_df['Date'] = bikerider_df['stoptime'].apply(lambda x: datetime.strptime(x, \"%m/%d/%Y %H:%M\").strftime('%m/%d/%Y'))"
   ]
  },
  {
   "cell_type": "code",
   "execution_count": 11,
   "metadata": {},
   "outputs": [],
   "source": [
    "#bikerider_df['Date'].reset_index()\n",
    "#bikerider_Weatherdf.set_index('Date')"
   ]
  },
  {
   "cell_type": "code",
   "execution_count": 12,
   "metadata": {},
   "outputs": [
    {
     "name": "stdout",
     "output_type": "stream",
     "text": [
      "<class 'pandas.core.frame.DataFrame'>\n",
      "Int64Index: 236065 entries, 0 to 286856\n",
      "Data columns (total 33 columns):\n",
      "trip_id                       236065 non-null int64\n",
      "starttime                     236065 non-null object\n",
      "stoptime                      236065 non-null object\n",
      "bikeid                        236065 non-null object\n",
      "tripduration                  236065 non-null float64\n",
      "from_station_name             236065 non-null object\n",
      "to_station_name               236065 non-null object\n",
      "from_station_id               236065 non-null object\n",
      "to_station_id                 236065 non-null object\n",
      "usertype                      236065 non-null object\n",
      "gender                        146171 non-null object\n",
      "birthyear                     146167 non-null float64\n",
      "Date                          236065 non-null object\n",
      "Max_Temperature_F             29863 non-null float64\n",
      "Mean_Temperature_F            29863 non-null float64\n",
      "Min_TemperatureF              29863 non-null float64\n",
      "Max_Dew_Point_F               29863 non-null float64\n",
      "MeanDew_Point_F               29863 non-null float64\n",
      "Min_Dewpoint_F                29863 non-null float64\n",
      "Max_Humidity                  29863 non-null float64\n",
      "Mean_Humidity                 29863 non-null float64\n",
      "Min_Humidity                  29863 non-null float64\n",
      "Max_Sea_Level_Pressure_In     29863 non-null float64\n",
      "Mean_Sea_Level_Pressure_In    29863 non-null float64\n",
      "Min_Sea_Level_Pressure_In     29863 non-null float64\n",
      "Max_Visibility_Miles          29863 non-null float64\n",
      "Mean_Visibility_Miles         29863 non-null float64\n",
      "Min_Visibility_Miles          29863 non-null float64\n",
      "Max_Wind_Speed_MPH            29863 non-null float64\n",
      "Mean_Wind_Speed_MPH           29863 non-null float64\n",
      "Max_Gust_Speed_MPH            20633 non-null object\n",
      "Precipitation_In              29863 non-null float64\n",
      "Events                        20202 non-null object\n",
      "dtypes: float64(20), int64(1), object(12)\n",
      "memory usage: 61.2+ MB\n"
     ]
    }
   ],
   "source": [
    "#joining the two data frames for viz on Date\n",
    "trip_prep_df = bikerider_df.join(bikerider_Weatherdf.set_index('Date'), on = 'Date')\n",
    "trip_prep_df.info()"
   ]
  },
  {
   "cell_type": "markdown",
   "metadata": {},
   "source": [
    "# Matplotlib version"
   ]
  },
  {
   "cell_type": "code",
   "execution_count": 13,
   "metadata": {},
   "outputs": [],
   "source": [
    "import matplotlib.pyplot as plt\n",
    "trip_prep_df_hist = trip_prep_df['Precipitation_In'].hist()    \n",
    " \n",
    "#trip_prep_df_hist.savefig('trip_prep_df_hist.pdf')# save figure to disk with give name"
   ]
  },
  {
   "cell_type": "markdown",
   "metadata": {},
   "source": [
    "# Seaborn Version"
   ]
  },
  {
   "cell_type": "code",
   "execution_count": 14,
   "metadata": {},
   "outputs": [],
   "source": [
    "#importing seaborn and setting style\n",
    "import seaborn as sns; sns.set(style=\"white\", color_codes=True)"
   ]
  },
  {
   "cell_type": "code",
   "execution_count": 15,
   "metadata": {},
   "outputs": [
    {
     "name": "stderr",
     "output_type": "stream",
     "text": [
      "C:\\Users\\David\\Anaconda3\\lib\\site-packages\\scipy\\stats\\stats.py:1713: FutureWarning: Using a non-tuple sequence for multidimensional indexing is deprecated; use `arr[tuple(seq)]` instead of `arr[seq]`. In the future this will be interpreted as an array index, `arr[np.array(seq)]`, which will result either in an error or a different result.\n",
      "  return np.add.reduce(sorted[indexer] * weights, axis=axis) / sumval\n"
     ]
    },
    {
     "data": {
      "text/plain": [
       "<seaborn.axisgrid.JointGrid at 0x2a51f2ce438>"
      ]
     },
     "execution_count": 15,
     "metadata": {},
     "output_type": "execute_result"
    },
    {
     "data": {
      "image/png": "[encoded data removed]",
      "text/plain": [
       "<Figure size 432x432 with 3 Axes>"
      ]
     },
     "metadata": {},
     "output_type": "display_data"
    }
   ],
   "source": [
    "#plot\n",
    "sns.jointplot(x='Precipitation_In', y='tripduration', data=trip_prep_df)"
   ]
  },
  {
   "cell_type": "markdown",
   "metadata": {},
   "source": [
    "# Possible next step"
   ]
  },
  {
   "cell_type": "code",
   "execution_count": 17,
   "metadata": {},
   "outputs": [],
   "source": [
    "#Make an interactive version with bokeh"
   ]
  }
 ],
 "metadata": {
  "kernelspec": {
   "display_name": "Python 3",
   "language": "python",
   "name": "python3"
  },
  "language_info": {
   "codemirror_mode": {
    "name": "ipython",
    "version": 3
   },
   "file_extension": ".py",
   "mimetype": "text/x-python",
   "name": "python",
   "nbconvert_exporter": "python",
   "pygments_lexer": "ipython3",
   "version": "3.7.1"
  }
 },
 "nbformat": 4,
 "nbformat_minor": 2
}
